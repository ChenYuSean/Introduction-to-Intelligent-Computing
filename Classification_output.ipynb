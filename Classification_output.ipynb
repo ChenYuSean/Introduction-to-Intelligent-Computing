{
 "cells": [
  {
   "cell_type": "code",
   "execution_count": 1,
   "id": "ca71348a",
   "metadata": {},
   "outputs": [],
   "source": [
    "import glob\n",
    "from keras.models import load_model\n",
    "import mat4py\n",
    "import pandas as pd\n",
    "import cv2\n",
    "import numpy as np\n",
    "import os"
   ]
  },
  {
   "cell_type": "code",
   "execution_count": 3,
   "id": "f1d0463f",
   "metadata": {},
   "outputs": [
    {
     "data": {
      "text/html": [
       "<div>\n",
       "<style scoped>\n",
       "    .dataframe tbody tr th:only-of-type {\n",
       "        vertical-align: middle;\n",
       "    }\n",
       "\n",
       "    .dataframe tbody tr th {\n",
       "        vertical-align: top;\n",
       "    }\n",
       "\n",
       "    .dataframe thead th {\n",
       "        text-align: right;\n",
       "    }\n",
       "</style>\n",
       "<table border=\"1\" class=\"dataframe\">\n",
       "  <thead>\n",
       "    <tr style=\"text-align: right;\">\n",
       "      <th></th>\n",
       "      <th>path</th>\n",
       "      <th>name</th>\n",
       "    </tr>\n",
       "  </thead>\n",
       "  <tbody>\n",
       "    <tr>\n",
       "      <th>0</th>\n",
       "      <td>C:/Users/brian/Desktop/AI_intro/final_class/cl...</td>\n",
       "      <td>1.jpg</td>\n",
       "    </tr>\n",
       "    <tr>\n",
       "      <th>1</th>\n",
       "      <td>C:/Users/brian/Desktop/AI_intro/final_class/cl...</td>\n",
       "      <td>10.jpg</td>\n",
       "    </tr>\n",
       "    <tr>\n",
       "      <th>2</th>\n",
       "      <td>C:/Users/brian/Desktop/AI_intro/final_class/cl...</td>\n",
       "      <td>100.jpg</td>\n",
       "    </tr>\n",
       "    <tr>\n",
       "      <th>3</th>\n",
       "      <td>C:/Users/brian/Desktop/AI_intro/final_class/cl...</td>\n",
       "      <td>1000.jpg</td>\n",
       "    </tr>\n",
       "    <tr>\n",
       "      <th>4</th>\n",
       "      <td>C:/Users/brian/Desktop/AI_intro/final_class/cl...</td>\n",
       "      <td>1001.jpg</td>\n",
       "    </tr>\n",
       "  </tbody>\n",
       "</table>\n",
       "</div>"
      ],
      "text/plain": [
       "                                                path      name\n",
       "0  C:/Users/brian/Desktop/AI_intro/final_class/cl...     1.jpg\n",
       "1  C:/Users/brian/Desktop/AI_intro/final_class/cl...    10.jpg\n",
       "2  C:/Users/brian/Desktop/AI_intro/final_class/cl...   100.jpg\n",
       "3  C:/Users/brian/Desktop/AI_intro/final_class/cl...  1000.jpg\n",
       "4  C:/Users/brian/Desktop/AI_intro/final_class/cl...  1001.jpg"
      ]
     },
     "execution_count": 3,
     "metadata": {},
     "output_type": "execute_result"
    }
   ],
   "source": [
    "path = 'C:/Users/brian/Desktop/AI_intro/final_class/'\n",
    "#inform = mat4py.loadmat(path+'devkit/devkit/cars_test_annos_withlabels.mat')\n",
    "#df = pd.DataFrame(inform['annotations'])\n",
    "\n",
    "df = pd.DataFrame()\n",
    "filetype = ['*jpeg', '*jpg', '*png']\n",
    "\n",
    "cases=[]\n",
    "for f in filetype:\n",
    "    cases.extend(glob.glob(path+'classifier_evaluation/'+f))\n",
    "\n",
    "cases.sort()\n",
    "df['path'] = cases\n",
    "name = []\n",
    "for case in cases:\n",
    "    name.append(os.path.basename(case))\n",
    "df['name'] = name\n",
    "df.head()"
   ]
  },
  {
   "cell_type": "code",
   "execution_count": 4,
   "id": "4c2fabdc",
   "metadata": {},
   "outputs": [],
   "source": [
    "#data augmentation\n",
    "def adjust_data(path):\n",
    "    img = cv2.imread(path)\n",
    "    img = cv2.resize(img, (224,224), interpolation=cv2.INTER_NEAREST)\n",
    "    img = np.reshape(img, (224,224,3))\n",
    "    return img\n",
    "\n",
    "def compose_data(df):\n",
    "    data = []\n",
    "    \n",
    "    for ind in df.index:\n",
    "        path = df['path'][ind]\n",
    "        \n",
    "        data.append(adjust_data(path))\n",
    "        \n",
    "    return np.array(data)"
   ]
  },
  {
   "cell_type": "code",
   "execution_count": 5,
   "id": "38e6e101",
   "metadata": {},
   "outputs": [],
   "source": [
    "fitting = compose_data(df)"
   ]
  },
  {
   "cell_type": "code",
   "execution_count": 32,
   "id": "15f6e45e",
   "metadata": {},
   "outputs": [
    {
     "data": {
      "text/plain": [
       "-1"
      ]
     },
     "execution_count": 32,
     "metadata": {},
     "output_type": "execute_result"
    }
   ],
   "source": [
    "cv2.imshow('image', fitting[1])\n",
    "cv2.waitKey(0)"
   ]
  },
  {
   "cell_type": "code",
   "execution_count": 6,
   "id": "61d68af8",
   "metadata": {},
   "outputs": [],
   "source": [
    "MobileNet = load_model(\"C:/Users/brian/Desktop/AI_intro/final_class/Mobile\")"
   ]
  },
  {
   "cell_type": "code",
   "execution_count": 7,
   "id": "4a90a2f3",
   "metadata": {},
   "outputs": [],
   "source": [
    "predict=[]\n",
    "for x in fitting:\n",
    "    x = np.expand_dims(x, axis=0)\n",
    "    prob = MobileNet.predict(x)\n",
    "    predict_class = prob.argmax(axis=-1)\n",
    "    predict.append(predict_class[0])"
   ]
  },
  {
   "cell_type": "code",
   "execution_count": 8,
   "id": "13255cfd",
   "metadata": {},
   "outputs": [
    {
     "data": {
      "text/html": [
       "<div>\n",
       "<style scoped>\n",
       "    .dataframe tbody tr th:only-of-type {\n",
       "        vertical-align: middle;\n",
       "    }\n",
       "\n",
       "    .dataframe tbody tr th {\n",
       "        vertical-align: top;\n",
       "    }\n",
       "\n",
       "    .dataframe thead th {\n",
       "        text-align: right;\n",
       "    }\n",
       "</style>\n",
       "<table border=\"1\" class=\"dataframe\">\n",
       "  <thead>\n",
       "    <tr style=\"text-align: right;\">\n",
       "      <th></th>\n",
       "      <th>filename</th>\n",
       "      <th>label</th>\n",
       "    </tr>\n",
       "  </thead>\n",
       "  <tbody>\n",
       "    <tr>\n",
       "      <th>0</th>\n",
       "      <td>1.jpg</td>\n",
       "      <td>118</td>\n",
       "    </tr>\n",
       "    <tr>\n",
       "      <th>1</th>\n",
       "      <td>10.jpg</td>\n",
       "      <td>86</td>\n",
       "    </tr>\n",
       "    <tr>\n",
       "      <th>2</th>\n",
       "      <td>100.jpg</td>\n",
       "      <td>46</td>\n",
       "    </tr>\n",
       "    <tr>\n",
       "      <th>3</th>\n",
       "      <td>1000.jpg</td>\n",
       "      <td>104</td>\n",
       "    </tr>\n",
       "    <tr>\n",
       "      <th>4</th>\n",
       "      <td>1001.jpg</td>\n",
       "      <td>94</td>\n",
       "    </tr>\n",
       "  </tbody>\n",
       "</table>\n",
       "</div>"
      ],
      "text/plain": [
       "   filename  label\n",
       "0     1.jpg    118\n",
       "1    10.jpg     86\n",
       "2   100.jpg     46\n",
       "3  1000.jpg    104\n",
       "4  1001.jpg     94"
      ]
     },
     "execution_count": 8,
     "metadata": {},
     "output_type": "execute_result"
    }
   ],
   "source": [
    "FinalOutput = pd.DataFrame()\n",
    "FinalOutput['filename'] = df['name']\n",
    "FinalOutput['label'] = predict\n",
    "\n",
    "FinalOutput.head()"
   ]
  },
  {
   "cell_type": "code",
   "execution_count": 9,
   "id": "b0b759d3",
   "metadata": {},
   "outputs": [],
   "source": [
    "FinalOutput.to_csv('Group2.CSV', index=False)"
   ]
  },
  {
   "cell_type": "code",
   "execution_count": null,
   "id": "db1dd02d",
   "metadata": {},
   "outputs": [],
   "source": []
  }
 ],
 "metadata": {
  "kernelspec": {
   "display_name": "Python 3 (ipykernel)",
   "language": "python",
   "name": "python3"
  },
  "language_info": {
   "codemirror_mode": {
    "name": "ipython",
    "version": 3
   },
   "file_extension": ".py",
   "mimetype": "text/x-python",
   "name": "python",
   "nbconvert_exporter": "python",
   "pygments_lexer": "ipython3",
   "version": "3.7.3"
  }
 },
 "nbformat": 4,
 "nbformat_minor": 5
}
